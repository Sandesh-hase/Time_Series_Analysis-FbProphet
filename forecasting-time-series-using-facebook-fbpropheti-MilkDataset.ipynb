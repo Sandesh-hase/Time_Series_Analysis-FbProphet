{
 "cells": [
  {
   "cell_type": "code",
   "execution_count": 1,
   "metadata": {
    "_cell_guid": "b1076dfc-b9ad-4769-8c92-a6c4dae69d19",
    "_uuid": "8f2839f25d086af736a60e9eeb907d3b93b6e0e5",
    "papermill": {
     "duration": 0.056906,
     "end_time": "2020-12-27T09:48:24.501539",
     "exception": false,
     "start_time": "2020-12-27T09:48:24.444633",
     "status": "completed"
    },
    "tags": []
   },
   "outputs": [],
   "source": [
    "import numpy as np # linear algebra\n",
    "import pandas as pd # data processing, CSV file I/O (e.g. pd.read_csv)\n",
    "import os"
   ]
  },
  {
   "cell_type": "code",
   "execution_count": 2,
   "metadata": {
    "_cell_guid": "79c7e3d0-c299-4dcb-8224-4455121ee9b0",
    "_uuid": "d629ff2d2480ee46fbb7e2d37f6b5fab8052498a",
    "papermill": {
     "duration": 0.3565,
     "end_time": "2020-12-27T09:48:24.883293",
     "exception": false,
     "start_time": "2020-12-27T09:48:24.526793",
     "status": "completed"
    },
    "tags": []
   },
   "outputs": [
    {
     "name": "stderr",
     "output_type": "stream",
     "text": [
      "Importing plotly failed. Interactive plots will not work.\n"
     ]
    }
   ],
   "source": [
    "import fbprophet\n",
    "import matplotlib.pyplot as plt\n",
    "%matplotlib inline"
   ]
  },
  {
   "cell_type": "code",
   "execution_count": 3,
   "metadata": {
    "papermill": {
     "duration": 0.067196,
     "end_time": "2020-12-27T09:48:24.975213",
     "exception": false,
     "start_time": "2020-12-27T09:48:24.908017",
     "status": "completed"
    },
    "tags": []
   },
   "outputs": [
    {
     "data": {
      "text/html": [
       "<div>\n",
       "<style scoped>\n",
       "    .dataframe tbody tr th:only-of-type {\n",
       "        vertical-align: middle;\n",
       "    }\n",
       "\n",
       "    .dataframe tbody tr th {\n",
       "        vertical-align: top;\n",
       "    }\n",
       "\n",
       "    .dataframe thead th {\n",
       "        text-align: right;\n",
       "    }\n",
       "</style>\n",
       "<table border=\"1\" class=\"dataframe\">\n",
       "  <thead>\n",
       "    <tr style=\"text-align: right;\">\n",
       "      <th></th>\n",
       "      <th>Month</th>\n",
       "      <th>Monthly milk production: pounds per cow. Jan 62 ? Dec 75</th>\n",
       "    </tr>\n",
       "  </thead>\n",
       "  <tbody>\n",
       "    <tr>\n",
       "      <th>0</th>\n",
       "      <td>1962-01</td>\n",
       "      <td>589.0</td>\n",
       "    </tr>\n",
       "    <tr>\n",
       "      <th>1</th>\n",
       "      <td>1962-02</td>\n",
       "      <td>561.0</td>\n",
       "    </tr>\n",
       "    <tr>\n",
       "      <th>2</th>\n",
       "      <td>1962-03</td>\n",
       "      <td>640.0</td>\n",
       "    </tr>\n",
       "    <tr>\n",
       "      <th>3</th>\n",
       "      <td>1962-04</td>\n",
       "      <td>656.0</td>\n",
       "    </tr>\n",
       "    <tr>\n",
       "      <th>4</th>\n",
       "      <td>1962-05</td>\n",
       "      <td>727.0</td>\n",
       "    </tr>\n",
       "  </tbody>\n",
       "</table>\n",
       "</div>"
      ],
      "text/plain": [
       "     Month  Monthly milk production: pounds per cow. Jan 62 ? Dec 75\n",
       "0  1962-01                                              589.0       \n",
       "1  1962-02                                              561.0       \n",
       "2  1962-03                                              640.0       \n",
       "3  1962-04                                              656.0       \n",
       "4  1962-05                                              727.0       "
      ]
     },
     "execution_count": 3,
     "metadata": {},
     "output_type": "execute_result"
    }
   ],
   "source": [
    "df = pd.read_csv(\"monthlyMilkProduction.csv\")\n",
    "df.head()"
   ]
  },
  {
   "cell_type": "markdown",
   "metadata": {
    "papermill": {
     "duration": 0.024845,
     "end_time": "2020-12-27T09:48:25.025591",
     "exception": false,
     "start_time": "2020-12-27T09:48:25.000746",
     "status": "completed"
    },
    "tags": []
   },
   "source": [
    "# Task 1: Data Preprocessing With Time Series"
   ]
  },
  {
   "cell_type": "code",
   "execution_count": 4,
   "metadata": {
    "papermill": {
     "duration": 0.040421,
     "end_time": "2020-12-27T09:48:25.091494",
     "exception": false,
     "start_time": "2020-12-27T09:48:25.051073",
     "status": "completed"
    },
    "tags": []
   },
   "outputs": [
    {
     "data": {
      "text/html": [
       "<div>\n",
       "<style scoped>\n",
       "    .dataframe tbody tr th:only-of-type {\n",
       "        vertical-align: middle;\n",
       "    }\n",
       "\n",
       "    .dataframe tbody tr th {\n",
       "        vertical-align: top;\n",
       "    }\n",
       "\n",
       "    .dataframe thead th {\n",
       "        text-align: right;\n",
       "    }\n",
       "</style>\n",
       "<table border=\"1\" class=\"dataframe\">\n",
       "  <thead>\n",
       "    <tr style=\"text-align: right;\">\n",
       "      <th></th>\n",
       "      <th>Month</th>\n",
       "      <th>Monthly milk production: pounds per cow. Jan 62 ? Dec 75</th>\n",
       "    </tr>\n",
       "  </thead>\n",
       "  <tbody>\n",
       "    <tr>\n",
       "      <th>164</th>\n",
       "      <td>1975-09</td>\n",
       "      <td>817.0</td>\n",
       "    </tr>\n",
       "    <tr>\n",
       "      <th>165</th>\n",
       "      <td>1975-10</td>\n",
       "      <td>827.0</td>\n",
       "    </tr>\n",
       "    <tr>\n",
       "      <th>166</th>\n",
       "      <td>1975-11</td>\n",
       "      <td>797.0</td>\n",
       "    </tr>\n",
       "    <tr>\n",
       "      <th>167</th>\n",
       "      <td>1975-12</td>\n",
       "      <td>843.0</td>\n",
       "    </tr>\n",
       "    <tr>\n",
       "      <th>168</th>\n",
       "      <td>Monthly milk production: pounds per cow. Jan 6...</td>\n",
       "      <td>NaN</td>\n",
       "    </tr>\n",
       "  </tbody>\n",
       "</table>\n",
       "</div>"
      ],
      "text/plain": [
       "                                                 Month  \\\n",
       "164                                            1975-09   \n",
       "165                                            1975-10   \n",
       "166                                            1975-11   \n",
       "167                                            1975-12   \n",
       "168  Monthly milk production: pounds per cow. Jan 6...   \n",
       "\n",
       "     Monthly milk production: pounds per cow. Jan 62 ? Dec 75  \n",
       "164                                              817.0         \n",
       "165                                              827.0         \n",
       "166                                              797.0         \n",
       "167                                              843.0         \n",
       "168                                                NaN         "
      ]
     },
     "execution_count": 4,
     "metadata": {},
     "output_type": "execute_result"
    }
   ],
   "source": [
    "df.tail()"
   ]
  },
  {
   "cell_type": "code",
   "execution_count": 5,
   "metadata": {
    "papermill": {
     "duration": 0.038678,
     "end_time": "2020-12-27T09:48:25.156505",
     "exception": false,
     "start_time": "2020-12-27T09:48:25.117827",
     "status": "completed"
    },
    "tags": []
   },
   "outputs": [],
   "source": [
    "#drop the bad record\n",
    "df.drop(168, axis=0, inplace=True)"
   ]
  },
  {
   "cell_type": "code",
   "execution_count": 6,
   "metadata": {
    "papermill": {
     "duration": 0.043471,
     "end_time": "2020-12-27T09:48:25.226218",
     "exception": false,
     "start_time": "2020-12-27T09:48:25.182747",
     "status": "completed"
    },
    "tags": []
   },
   "outputs": [
    {
     "data": {
      "text/html": [
       "<div>\n",
       "<style scoped>\n",
       "    .dataframe tbody tr th:only-of-type {\n",
       "        vertical-align: middle;\n",
       "    }\n",
       "\n",
       "    .dataframe tbody tr th {\n",
       "        vertical-align: top;\n",
       "    }\n",
       "\n",
       "    .dataframe thead th {\n",
       "        text-align: right;\n",
       "    }\n",
       "</style>\n",
       "<table border=\"1\" class=\"dataframe\">\n",
       "  <thead>\n",
       "    <tr style=\"text-align: right;\">\n",
       "      <th></th>\n",
       "      <th>Month</th>\n",
       "      <th>Monthly milk production: pounds per cow. Jan 62 ? Dec 75</th>\n",
       "    </tr>\n",
       "  </thead>\n",
       "  <tbody>\n",
       "    <tr>\n",
       "      <th>163</th>\n",
       "      <td>1975-08</td>\n",
       "      <td>858.0</td>\n",
       "    </tr>\n",
       "    <tr>\n",
       "      <th>164</th>\n",
       "      <td>1975-09</td>\n",
       "      <td>817.0</td>\n",
       "    </tr>\n",
       "    <tr>\n",
       "      <th>165</th>\n",
       "      <td>1975-10</td>\n",
       "      <td>827.0</td>\n",
       "    </tr>\n",
       "    <tr>\n",
       "      <th>166</th>\n",
       "      <td>1975-11</td>\n",
       "      <td>797.0</td>\n",
       "    </tr>\n",
       "    <tr>\n",
       "      <th>167</th>\n",
       "      <td>1975-12</td>\n",
       "      <td>843.0</td>\n",
       "    </tr>\n",
       "  </tbody>\n",
       "</table>\n",
       "</div>"
      ],
      "text/plain": [
       "       Month  Monthly milk production: pounds per cow. Jan 62 ? Dec 75\n",
       "163  1975-08                                              858.0       \n",
       "164  1975-09                                              817.0       \n",
       "165  1975-10                                              827.0       \n",
       "166  1975-11                                              797.0       \n",
       "167  1975-12                                              843.0       "
      ]
     },
     "execution_count": 6,
     "metadata": {},
     "output_type": "execute_result"
    }
   ],
   "source": [
    "df.tail()"
   ]
  },
  {
   "cell_type": "code",
   "execution_count": 7,
   "metadata": {
    "papermill": {
     "duration": 0.037952,
     "end_time": "2020-12-27T09:48:25.290730",
     "exception": false,
     "start_time": "2020-12-27T09:48:25.252778",
     "status": "completed"
    },
    "tags": []
   },
   "outputs": [],
   "source": [
    "#rename the column\n",
    "df.columns = [\"ds\", \"y\"]     #month --> ds(dates) & milk production --> y(value)\n"
   ]
  },
  {
   "cell_type": "code",
   "execution_count": 8,
   "metadata": {
    "papermill": {
     "duration": 0.041636,
     "end_time": "2020-12-27T09:48:25.360780",
     "exception": false,
     "start_time": "2020-12-27T09:48:25.319144",
     "status": "completed"
    },
    "tags": []
   },
   "outputs": [
    {
     "data": {
      "text/html": [
       "<div>\n",
       "<style scoped>\n",
       "    .dataframe tbody tr th:only-of-type {\n",
       "        vertical-align: middle;\n",
       "    }\n",
       "\n",
       "    .dataframe tbody tr th {\n",
       "        vertical-align: top;\n",
       "    }\n",
       "\n",
       "    .dataframe thead th {\n",
       "        text-align: right;\n",
       "    }\n",
       "</style>\n",
       "<table border=\"1\" class=\"dataframe\">\n",
       "  <thead>\n",
       "    <tr style=\"text-align: right;\">\n",
       "      <th></th>\n",
       "      <th>ds</th>\n",
       "      <th>y</th>\n",
       "    </tr>\n",
       "  </thead>\n",
       "  <tbody>\n",
       "    <tr>\n",
       "      <th>0</th>\n",
       "      <td>1962-01</td>\n",
       "      <td>589.0</td>\n",
       "    </tr>\n",
       "    <tr>\n",
       "      <th>1</th>\n",
       "      <td>1962-02</td>\n",
       "      <td>561.0</td>\n",
       "    </tr>\n",
       "    <tr>\n",
       "      <th>2</th>\n",
       "      <td>1962-03</td>\n",
       "      <td>640.0</td>\n",
       "    </tr>\n",
       "    <tr>\n",
       "      <th>3</th>\n",
       "      <td>1962-04</td>\n",
       "      <td>656.0</td>\n",
       "    </tr>\n",
       "    <tr>\n",
       "      <th>4</th>\n",
       "      <td>1962-05</td>\n",
       "      <td>727.0</td>\n",
       "    </tr>\n",
       "  </tbody>\n",
       "</table>\n",
       "</div>"
      ],
      "text/plain": [
       "        ds      y\n",
       "0  1962-01  589.0\n",
       "1  1962-02  561.0\n",
       "2  1962-03  640.0\n",
       "3  1962-04  656.0\n",
       "4  1962-05  727.0"
      ]
     },
     "execution_count": 8,
     "metadata": {},
     "output_type": "execute_result"
    }
   ],
   "source": [
    "df.head()"
   ]
  },
  {
   "cell_type": "code",
   "execution_count": 9,
   "metadata": {
    "papermill": {
     "duration": 0.271458,
     "end_time": "2020-12-27T09:48:25.659302",
     "exception": false,
     "start_time": "2020-12-27T09:48:25.387844",
     "status": "completed"
    },
    "tags": []
   },
   "outputs": [
    {
     "data": {
      "text/plain": [
       "<AxesSubplot:>"
      ]
     },
     "execution_count": 9,
     "metadata": {},
     "output_type": "execute_result"
    },
    {
     "data": {
      "image/png": "[encoded data removed]",
      "text/plain": [
       "<Figure size 432x288 with 1 Axes>"
      ]
     },
     "metadata": {
      "needs_background": "light"
     },
     "output_type": "display_data"
    }
   ],
   "source": [
    "df.plot()"
   ]
  },
  {
   "cell_type": "code",
   "execution_count": 10,
   "metadata": {
    "papermill": {
     "duration": 0.04435,
     "end_time": "2020-12-27T09:48:25.732826",
     "exception": false,
     "start_time": "2020-12-27T09:48:25.688476",
     "status": "completed"
    },
    "tags": []
   },
   "outputs": [],
   "source": [
    "#convert date to yyyy-dd-mm\n",
    "df['ds'] = pd.to_datetime(df['ds'])"
   ]
  },
  {
   "cell_type": "code",
   "execution_count": 11,
   "metadata": {
    "papermill": {
     "duration": 0.045525,
     "end_time": "2020-12-27T09:48:25.807789",
     "exception": false,
     "start_time": "2020-12-27T09:48:25.762264",
     "status": "completed"
    },
    "tags": []
   },
   "outputs": [
    {
     "data": {
      "text/html": [
       "<div>\n",
       "<style scoped>\n",
       "    .dataframe tbody tr th:only-of-type {\n",
       "        vertical-align: middle;\n",
       "    }\n",
       "\n",
       "    .dataframe tbody tr th {\n",
       "        vertical-align: top;\n",
       "    }\n",
       "\n",
       "    .dataframe thead th {\n",
       "        text-align: right;\n",
       "    }\n",
       "</style>\n",
       "<table border=\"1\" class=\"dataframe\">\n",
       "  <thead>\n",
       "    <tr style=\"text-align: right;\">\n",
       "      <th></th>\n",
       "      <th>ds</th>\n",
       "      <th>y</th>\n",
       "    </tr>\n",
       "  </thead>\n",
       "  <tbody>\n",
       "    <tr>\n",
       "      <th>0</th>\n",
       "      <td>1962-01-01</td>\n",
       "      <td>589.0</td>\n",
       "    </tr>\n",
       "    <tr>\n",
       "      <th>1</th>\n",
       "      <td>1962-02-01</td>\n",
       "      <td>561.0</td>\n",
       "    </tr>\n",
       "    <tr>\n",
       "      <th>2</th>\n",
       "      <td>1962-03-01</td>\n",
       "      <td>640.0</td>\n",
       "    </tr>\n",
       "    <tr>\n",
       "      <th>3</th>\n",
       "      <td>1962-04-01</td>\n",
       "      <td>656.0</td>\n",
       "    </tr>\n",
       "    <tr>\n",
       "      <th>4</th>\n",
       "      <td>1962-05-01</td>\n",
       "      <td>727.0</td>\n",
       "    </tr>\n",
       "  </tbody>\n",
       "</table>\n",
       "</div>"
      ],
      "text/plain": [
       "          ds      y\n",
       "0 1962-01-01  589.0\n",
       "1 1962-02-01  561.0\n",
       "2 1962-03-01  640.0\n",
       "3 1962-04-01  656.0\n",
       "4 1962-05-01  727.0"
      ]
     },
     "execution_count": 11,
     "metadata": {},
     "output_type": "execute_result"
    }
   ],
   "source": [
    "df.head() \n"
   ]
  },
  {
   "cell_type": "code",
   "execution_count": 12,
   "metadata": {
    "papermill": {
     "duration": 0.196465,
     "end_time": "2020-12-27T09:48:26.036243",
     "exception": false,
     "start_time": "2020-12-27T09:48:25.839778",
     "status": "completed"
    },
    "tags": []
   },
   "outputs": [
    {
     "data": {
      "text/plain": [
       "<AxesSubplot:>"
      ]
     },
     "execution_count": 12,
     "metadata": {},
     "output_type": "execute_result"
    },
    {
     "data": {
      "image/png": "[encoded data removed]",
      "text/plain": [
       "<Figure size 432x288 with 1 Axes>"
      ]
     },
     "metadata": {
      "needs_background": "light"
     },
     "output_type": "display_data"
    }
   ],
   "source": [
    "df['y'].plot()"
   ]
  },
  {
   "cell_type": "code",
   "execution_count": 13,
   "metadata": {
    "papermill": {
     "duration": 0.20198,
     "end_time": "2020-12-27T09:48:26.270926",
     "exception": false,
     "start_time": "2020-12-27T09:48:26.068946",
     "status": "completed"
    },
    "tags": []
   },
   "outputs": [
    {
     "data": {
      "text/plain": [
       "<AxesSubplot:>"
      ]
     },
     "execution_count": 13,
     "metadata": {},
     "output_type": "execute_result"
    },
    {
     "data": {
      "image/png": "[encoded data removed]",
      "text/plain": [
       "<Figure size 432x288 with 1 Axes>"
      ]
     },
     "metadata": {
      "needs_background": "light"
     },
     "output_type": "display_data"
    }
   ],
   "source": [
    "df['y'].plot()"
   ]
  },
  {
   "cell_type": "markdown",
   "metadata": {
    "papermill": {
     "duration": 0.033691,
     "end_time": "2020-12-27T09:48:26.339270",
     "exception": false,
     "start_time": "2020-12-27T09:48:26.305579",
     "status": "completed"
    },
    "tags": []
   },
   "source": [
    "Stationary data means constant \"Variance\""
   ]
  },
  {
   "cell_type": "code",
   "execution_count": 14,
   "metadata": {
    "papermill": {
     "duration": 0.042823,
     "end_time": "2020-12-27T09:48:26.415227",
     "exception": false,
     "start_time": "2020-12-27T09:48:26.372404",
     "status": "completed"
    },
    "tags": []
   },
   "outputs": [],
   "source": [
    "#import facebook Prophet\n",
    "\n",
    "from fbprophet import Prophet"
   ]
  },
  {
   "cell_type": "code",
   "execution_count": 15,
   "metadata": {
    "papermill": {
     "duration": 0.047039,
     "end_time": "2020-12-27T09:48:26.496977",
     "exception": false,
     "start_time": "2020-12-27T09:48:26.449938",
     "status": "completed"
    },
    "tags": []
   },
   "outputs": [
    {
     "data": {
      "text/plain": [
       "['__class__',\n",
       " '__delattr__',\n",
       " '__dict__',\n",
       " '__dir__',\n",
       " '__doc__',\n",
       " '__eq__',\n",
       " '__format__',\n",
       " '__ge__',\n",
       " '__getattribute__',\n",
       " '__gt__',\n",
       " '__hash__',\n",
       " '__init__',\n",
       " '__init_subclass__',\n",
       " '__le__',\n",
       " '__lt__',\n",
       " '__module__',\n",
       " '__ne__',\n",
       " '__new__',\n",
       " '__reduce__',\n",
       " '__reduce_ex__',\n",
       " '__repr__',\n",
       " '__setattr__',\n",
       " '__sizeof__',\n",
       " '__str__',\n",
       " '__subclasshook__',\n",
       " '__weakref__',\n",
       " '_load_stan_backend',\n",
       " 'add_country_holidays',\n",
       " 'add_group_component',\n",
       " 'add_regressor',\n",
       " 'add_seasonality',\n",
       " 'construct_holiday_dataframe',\n",
       " 'fit',\n",
       " 'flat_growth_init',\n",
       " 'flat_trend',\n",
       " 'fourier_series',\n",
       " 'initialize_scales',\n",
       " 'linear_growth_init',\n",
       " 'logistic_growth_init',\n",
       " 'make_all_seasonality_features',\n",
       " 'make_future_dataframe',\n",
       " 'make_holiday_features',\n",
       " 'make_seasonality_features',\n",
       " 'parse_seasonality_args',\n",
       " 'percentile',\n",
       " 'piecewise_linear',\n",
       " 'piecewise_logistic',\n",
       " 'plot',\n",
       " 'plot_components',\n",
       " 'predict',\n",
       " 'predict_seasonal_components',\n",
       " 'predict_trend',\n",
       " 'predict_uncertainty',\n",
       " 'predictive_samples',\n",
       " 'regressor_column_matrix',\n",
       " 'sample_model',\n",
       " 'sample_posterior_predictive',\n",
       " 'sample_predictive_trend',\n",
       " 'set_auto_seasonalities',\n",
       " 'set_changepoints',\n",
       " 'setup_dataframe',\n",
       " 'validate_column_name',\n",
       " 'validate_inputs']"
      ]
     },
     "execution_count": 15,
     "metadata": {},
     "output_type": "execute_result"
    }
   ],
   "source": [
    "dir(Prophet)"
   ]
  },
  {
   "cell_type": "markdown",
   "metadata": {
    "papermill": {
     "duration": 0.033779,
     "end_time": "2020-12-27T09:48:26.565293",
     "exception": false,
     "start_time": "2020-12-27T09:48:26.531514",
     "status": "completed"
    },
    "tags": []
   },
   "source": [
    "# Task 2: Intialize the model"
   ]
  },
  {
   "cell_type": "code",
   "execution_count": 16,
   "metadata": {
    "papermill": {
     "duration": 2.405098,
     "end_time": "2020-12-27T09:48:29.004432",
     "exception": false,
     "start_time": "2020-12-27T09:48:26.599334",
     "status": "completed"
    },
    "tags": []
   },
   "outputs": [
    {
     "name": "stderr",
     "output_type": "stream",
     "text": [
      "INFO:fbprophet:Disabling weekly seasonality. Run prophet with weekly_seasonality=True to override this.\n",
      "INFO:fbprophet:Disabling daily seasonality. Run prophet with daily_seasonality=True to override this.\n"
     ]
    },
    {
     "data": {
      "text/plain": [
       "<fbprophet.forecaster.Prophet at 0x26fe047e700>"
      ]
     },
     "execution_count": 16,
     "metadata": {},
     "output_type": "execute_result"
    }
   ],
   "source": [
    "model = Prophet()\n",
    "model.fit(df)"
   ]
  },
  {
   "cell_type": "code",
   "execution_count": 17,
   "metadata": {
    "papermill": {
     "duration": 0.044568,
     "end_time": "2020-12-27T09:48:29.083431",
     "exception": false,
     "start_time": "2020-12-27T09:48:29.038863",
     "status": "completed"
    },
    "tags": []
   },
   "outputs": [
    {
     "data": {
      "text/plain": [
       "<fbprophet.forecaster.Prophet at 0x26fe047e700>"
      ]
     },
     "execution_count": 17,
     "metadata": {},
     "output_type": "execute_result"
    }
   ],
   "source": [
    "model  # by default model will give monthly_seasonality\n"
   ]
  },
  {
   "cell_type": "code",
   "execution_count": 18,
   "metadata": {
    "papermill": {
     "duration": 0.042771,
     "end_time": "2020-12-27T09:48:29.160347",
     "exception": false,
     "start_time": "2020-12-27T09:48:29.117576",
     "status": "completed"
    },
    "tags": []
   },
   "outputs": [
    {
     "data": {
      "text/plain": [
       "OrderedDict([('yearly',\n",
       "              {'period': 365.25,\n",
       "               'fourier_order': 10,\n",
       "               'prior_scale': 10.0,\n",
       "               'mode': 'additive',\n",
       "               'condition_name': None})])"
      ]
     },
     "execution_count": 18,
     "metadata": {},
     "output_type": "execute_result"
    }
   ],
   "source": [
    "model.seasonalities"
   ]
  },
  {
   "cell_type": "code",
   "execution_count": 19,
   "metadata": {
    "papermill": {
     "duration": 0.043695,
     "end_time": "2020-12-27T09:48:29.238622",
     "exception": false,
     "start_time": "2020-12-27T09:48:29.194927",
     "status": "completed"
    },
    "tags": []
   },
   "outputs": [],
   "source": [
    "# create some future dataframes(dates) of 365 days\n",
    "#this data is used to make predictions\n",
    "future_dates = model.make_future_dataframe(periods=365)"
   ]
  },
  {
   "cell_type": "code",
   "execution_count": 20,
   "metadata": {
    "papermill": {
     "duration": 0.049794,
     "end_time": "2020-12-27T09:48:29.323334",
     "exception": false,
     "start_time": "2020-12-27T09:48:29.273540",
     "status": "completed"
    },
    "tags": []
   },
   "outputs": [
    {
     "data": {
      "text/html": [
       "<div>\n",
       "<style scoped>\n",
       "    .dataframe tbody tr th:only-of-type {\n",
       "        vertical-align: middle;\n",
       "    }\n",
       "\n",
       "    .dataframe tbody tr th {\n",
       "        vertical-align: top;\n",
       "    }\n",
       "\n",
       "    .dataframe thead th {\n",
       "        text-align: right;\n",
       "    }\n",
       "</style>\n",
       "<table border=\"1\" class=\"dataframe\">\n",
       "  <thead>\n",
       "    <tr style=\"text-align: right;\">\n",
       "      <th></th>\n",
       "      <th>ds</th>\n",
       "    </tr>\n",
       "  </thead>\n",
       "  <tbody>\n",
       "    <tr>\n",
       "      <th>0</th>\n",
       "      <td>1962-01-01</td>\n",
       "    </tr>\n",
       "    <tr>\n",
       "      <th>1</th>\n",
       "      <td>1962-02-01</td>\n",
       "    </tr>\n",
       "    <tr>\n",
       "      <th>2</th>\n",
       "      <td>1962-03-01</td>\n",
       "    </tr>\n",
       "    <tr>\n",
       "      <th>3</th>\n",
       "      <td>1962-04-01</td>\n",
       "    </tr>\n",
       "    <tr>\n",
       "      <th>4</th>\n",
       "      <td>1962-05-01</td>\n",
       "    </tr>\n",
       "    <tr>\n",
       "      <th>...</th>\n",
       "      <td>...</td>\n",
       "    </tr>\n",
       "    <tr>\n",
       "      <th>528</th>\n",
       "      <td>1976-11-26</td>\n",
       "    </tr>\n",
       "    <tr>\n",
       "      <th>529</th>\n",
       "      <td>1976-11-27</td>\n",
       "    </tr>\n",
       "    <tr>\n",
       "      <th>530</th>\n",
       "      <td>1976-11-28</td>\n",
       "    </tr>\n",
       "    <tr>\n",
       "      <th>531</th>\n",
       "      <td>1976-11-29</td>\n",
       "    </tr>\n",
       "    <tr>\n",
       "      <th>532</th>\n",
       "      <td>1976-11-30</td>\n",
       "    </tr>\n",
       "  </tbody>\n",
       "</table>\n",
       "<p>533 rows × 1 columns</p>\n",
       "</div>"
      ],
      "text/plain": [
       "            ds\n",
       "0   1962-01-01\n",
       "1   1962-02-01\n",
       "2   1962-03-01\n",
       "3   1962-04-01\n",
       "4   1962-05-01\n",
       "..         ...\n",
       "528 1976-11-26\n",
       "529 1976-11-27\n",
       "530 1976-11-28\n",
       "531 1976-11-29\n",
       "532 1976-11-30\n",
       "\n",
       "[533 rows x 1 columns]"
      ]
     },
     "execution_count": 20,
     "metadata": {},
     "output_type": "execute_result"
    }
   ],
   "source": [
    "future_dates"
   ]
  },
  {
   "cell_type": "code",
   "execution_count": 21,
   "metadata": {
    "papermill": {
     "duration": 2.275633,
     "end_time": "2020-12-27T09:48:31.634507",
     "exception": false,
     "start_time": "2020-12-27T09:48:29.358874",
     "status": "completed"
    },
    "tags": []
   },
   "outputs": [],
   "source": [
    "# Predictions\n",
    "predictions = model.predict(future_dates)"
   ]
  },
  {
   "cell_type": "code",
   "execution_count": 22,
   "metadata": {
    "papermill": {
     "duration": 0.064545,
     "end_time": "2020-12-27T09:48:31.734439",
     "exception": false,
     "start_time": "2020-12-27T09:48:31.669894",
     "status": "completed"
    },
    "tags": []
   },
   "outputs": [
    {
     "data": {
      "text/html": [
       "<div>\n",
       "<style scoped>\n",
       "    .dataframe tbody tr th:only-of-type {\n",
       "        vertical-align: middle;\n",
       "    }\n",
       "\n",
       "    .dataframe tbody tr th {\n",
       "        vertical-align: top;\n",
       "    }\n",
       "\n",
       "    .dataframe thead th {\n",
       "        text-align: right;\n",
       "    }\n",
       "</style>\n",
       "<table border=\"1\" class=\"dataframe\">\n",
       "  <thead>\n",
       "    <tr style=\"text-align: right;\">\n",
       "      <th></th>\n",
       "      <th>ds</th>\n",
       "      <th>trend</th>\n",
       "      <th>yhat_lower</th>\n",
       "      <th>yhat_upper</th>\n",
       "      <th>trend_lower</th>\n",
       "      <th>trend_upper</th>\n",
       "      <th>additive_terms</th>\n",
       "      <th>additive_terms_lower</th>\n",
       "      <th>additive_terms_upper</th>\n",
       "      <th>yearly</th>\n",
       "      <th>yearly_lower</th>\n",
       "      <th>yearly_upper</th>\n",
       "      <th>multiplicative_terms</th>\n",
       "      <th>multiplicative_terms_lower</th>\n",
       "      <th>multiplicative_terms_upper</th>\n",
       "      <th>yhat</th>\n",
       "    </tr>\n",
       "  </thead>\n",
       "  <tbody>\n",
       "    <tr>\n",
       "      <th>0</th>\n",
       "      <td>1962-01-01</td>\n",
       "      <td>606.849794</td>\n",
       "      <td>576.524428</td>\n",
       "      <td>597.204082</td>\n",
       "      <td>606.849794</td>\n",
       "      <td>606.849794</td>\n",
       "      <td>-20.104687</td>\n",
       "      <td>-20.104687</td>\n",
       "      <td>-20.104687</td>\n",
       "      <td>-20.104687</td>\n",
       "      <td>-20.104687</td>\n",
       "      <td>-20.104687</td>\n",
       "      <td>0.0</td>\n",
       "      <td>0.0</td>\n",
       "      <td>0.0</td>\n",
       "      <td>586.745106</td>\n",
       "    </tr>\n",
       "    <tr>\n",
       "      <th>1</th>\n",
       "      <td>1962-02-01</td>\n",
       "      <td>608.569237</td>\n",
       "      <td>535.966670</td>\n",
       "      <td>555.793504</td>\n",
       "      <td>608.569237</td>\n",
       "      <td>608.569237</td>\n",
       "      <td>-62.543222</td>\n",
       "      <td>-62.543222</td>\n",
       "      <td>-62.543222</td>\n",
       "      <td>-62.543222</td>\n",
       "      <td>-62.543222</td>\n",
       "      <td>-62.543222</td>\n",
       "      <td>0.0</td>\n",
       "      <td>0.0</td>\n",
       "      <td>0.0</td>\n",
       "      <td>546.026015</td>\n",
       "    </tr>\n",
       "    <tr>\n",
       "      <th>2</th>\n",
       "      <td>1962-03-01</td>\n",
       "      <td>610.122282</td>\n",
       "      <td>632.145077</td>\n",
       "      <td>652.088467</td>\n",
       "      <td>610.122282</td>\n",
       "      <td>610.122282</td>\n",
       "      <td>31.413370</td>\n",
       "      <td>31.413370</td>\n",
       "      <td>31.413370</td>\n",
       "      <td>31.413370</td>\n",
       "      <td>31.413370</td>\n",
       "      <td>31.413370</td>\n",
       "      <td>0.0</td>\n",
       "      <td>0.0</td>\n",
       "      <td>0.0</td>\n",
       "      <td>641.535653</td>\n",
       "    </tr>\n",
       "    <tr>\n",
       "      <th>3</th>\n",
       "      <td>1962-04-01</td>\n",
       "      <td>611.841725</td>\n",
       "      <td>648.224124</td>\n",
       "      <td>668.341374</td>\n",
       "      <td>611.841725</td>\n",
       "      <td>611.841725</td>\n",
       "      <td>46.743537</td>\n",
       "      <td>46.743537</td>\n",
       "      <td>46.743537</td>\n",
       "      <td>46.743537</td>\n",
       "      <td>46.743537</td>\n",
       "      <td>46.743537</td>\n",
       "      <td>0.0</td>\n",
       "      <td>0.0</td>\n",
       "      <td>0.0</td>\n",
       "      <td>658.585263</td>\n",
       "    </tr>\n",
       "    <tr>\n",
       "      <th>4</th>\n",
       "      <td>1962-05-01</td>\n",
       "      <td>613.505703</td>\n",
       "      <td>712.201951</td>\n",
       "      <td>731.718800</td>\n",
       "      <td>613.505703</td>\n",
       "      <td>613.505703</td>\n",
       "      <td>108.056343</td>\n",
       "      <td>108.056343</td>\n",
       "      <td>108.056343</td>\n",
       "      <td>108.056343</td>\n",
       "      <td>108.056343</td>\n",
       "      <td>108.056343</td>\n",
       "      <td>0.0</td>\n",
       "      <td>0.0</td>\n",
       "      <td>0.0</td>\n",
       "      <td>721.562045</td>\n",
       "    </tr>\n",
       "  </tbody>\n",
       "</table>\n",
       "</div>"
      ],
      "text/plain": [
       "          ds       trend  yhat_lower  yhat_upper  trend_lower  trend_upper  \\\n",
       "0 1962-01-01  606.849794  576.524428  597.204082   606.849794   606.849794   \n",
       "1 1962-02-01  608.569237  535.966670  555.793504   608.569237   608.569237   \n",
       "2 1962-03-01  610.122282  632.145077  652.088467   610.122282   610.122282   \n",
       "3 1962-04-01  611.841725  648.224124  668.341374   611.841725   611.841725   \n",
       "4 1962-05-01  613.505703  712.201951  731.718800   613.505703   613.505703   \n",
       "\n",
       "   additive_terms  additive_terms_lower  additive_terms_upper      yearly  \\\n",
       "0      -20.104687            -20.104687            -20.104687  -20.104687   \n",
       "1      -62.543222            -62.543222            -62.543222  -62.543222   \n",
       "2       31.413370             31.413370             31.413370   31.413370   \n",
       "3       46.743537             46.743537             46.743537   46.743537   \n",
       "4      108.056343            108.056343            108.056343  108.056343   \n",
       "\n",
       "   yearly_lower  yearly_upper  multiplicative_terms  \\\n",
       "0    -20.104687    -20.104687                   0.0   \n",
       "1    -62.543222    -62.543222                   0.0   \n",
       "2     31.413370     31.413370                   0.0   \n",
       "3     46.743537     46.743537                   0.0   \n",
       "4    108.056343    108.056343                   0.0   \n",
       "\n",
       "   multiplicative_terms_lower  multiplicative_terms_upper        yhat  \n",
       "0                         0.0                         0.0  586.745106  \n",
       "1                         0.0                         0.0  546.026015  \n",
       "2                         0.0                         0.0  641.535653  \n",
       "3                         0.0                         0.0  658.585263  \n",
       "4                         0.0                         0.0  721.562045  "
      ]
     },
     "execution_count": 22,
     "metadata": {},
     "output_type": "execute_result"
    }
   ],
   "source": [
    "predictions.head()"
   ]
  },
  {
   "cell_type": "code",
   "execution_count": 23,
   "metadata": {
    "papermill": {
     "duration": 0.058119,
     "end_time": "2020-12-27T09:48:31.829160",
     "exception": false,
     "start_time": "2020-12-27T09:48:31.771041",
     "status": "completed"
    },
    "tags": []
   },
   "outputs": [
    {
     "data": {
      "text/html": [
       "<div>\n",
       "<style scoped>\n",
       "    .dataframe tbody tr th:only-of-type {\n",
       "        vertical-align: middle;\n",
       "    }\n",
       "\n",
       "    .dataframe tbody tr th {\n",
       "        vertical-align: top;\n",
       "    }\n",
       "\n",
       "    .dataframe thead th {\n",
       "        text-align: right;\n",
       "    }\n",
       "</style>\n",
       "<table border=\"1\" class=\"dataframe\">\n",
       "  <thead>\n",
       "    <tr style=\"text-align: right;\">\n",
       "      <th></th>\n",
       "      <th>ds</th>\n",
       "      <th>yhat</th>\n",
       "      <th>yhat_lower</th>\n",
       "      <th>yhat_upper</th>\n",
       "    </tr>\n",
       "  </thead>\n",
       "  <tbody>\n",
       "    <tr>\n",
       "      <th>528</th>\n",
       "      <td>1976-11-26</td>\n",
       "      <td>815.170733</td>\n",
       "      <td>803.464093</td>\n",
       "      <td>825.963000</td>\n",
       "    </tr>\n",
       "    <tr>\n",
       "      <th>529</th>\n",
       "      <td>1976-11-27</td>\n",
       "      <td>818.390320</td>\n",
       "      <td>807.016626</td>\n",
       "      <td>829.122668</td>\n",
       "    </tr>\n",
       "    <tr>\n",
       "      <th>530</th>\n",
       "      <td>1976-11-28</td>\n",
       "      <td>821.779740</td>\n",
       "      <td>810.744026</td>\n",
       "      <td>833.711803</td>\n",
       "    </tr>\n",
       "    <tr>\n",
       "      <th>531</th>\n",
       "      <td>1976-11-29</td>\n",
       "      <td>825.275899</td>\n",
       "      <td>814.447128</td>\n",
       "      <td>837.020666</td>\n",
       "    </tr>\n",
       "    <tr>\n",
       "      <th>532</th>\n",
       "      <td>1976-11-30</td>\n",
       "      <td>828.808844</td>\n",
       "      <td>817.374815</td>\n",
       "      <td>840.313003</td>\n",
       "    </tr>\n",
       "  </tbody>\n",
       "</table>\n",
       "</div>"
      ],
      "text/plain": [
       "            ds        yhat  yhat_lower  yhat_upper\n",
       "528 1976-11-26  815.170733  803.464093  825.963000\n",
       "529 1976-11-27  818.390320  807.016626  829.122668\n",
       "530 1976-11-28  821.779740  810.744026  833.711803\n",
       "531 1976-11-29  825.275899  814.447128  837.020666\n",
       "532 1976-11-30  828.808844  817.374815  840.313003"
      ]
     },
     "execution_count": 23,
     "metadata": {},
     "output_type": "execute_result"
    }
   ],
   "source": [
    "predictions[['ds', 'yhat','yhat_lower', 'yhat_upper']].tail()"
   ]
  },
  {
   "cell_type": "markdown",
   "metadata": {
    "papermill": {
     "duration": 0.036994,
     "end_time": "2020-12-27T09:48:31.903336",
     "exception": false,
     "start_time": "2020-12-27T09:48:31.866342",
     "status": "completed"
    },
    "tags": []
   },
   "source": [
    "# Task 3 : Plot the predicted projection\n",
    "\n",
    "Blue line ---> the predicted value.\n",
    "\n",
    "Black dot ---> real data in our dataset\n",
    "\n",
    "Light Blue --> trends"
   ]
  },
  {
   "cell_type": "code",
   "execution_count": 24,
   "metadata": {
    "papermill": {
     "duration": 0.536443,
     "end_time": "2020-12-27T09:48:32.478342",
     "exception": false,
     "start_time": "2020-12-27T09:48:31.941899",
     "status": "completed"
    },
    "tags": []
   },
   "outputs": [
    {
     "data": {
      "image/png": "[encoded data removed]",
      "text/plain": [
       "<Figure size 720x432 with 1 Axes>"
      ]
     },
     "execution_count": 24,
     "metadata": {},
     "output_type": "execute_result"
    },
    {
     "data": {
      "image/png": "[encoded data removed]",
      "text/plain": [
       "<Figure size 720x432 with 1 Axes>"
      ]
     },
     "metadata": {},
     "output_type": "display_data"
    }
   ],
   "source": [
    "model.plot(predictions)"
   ]
  },
  {
   "cell_type": "markdown",
   "metadata": {
    "papermill": {
     "duration": 0.041773,
     "end_time": "2020-12-27T09:48:32.563231",
     "exception": false,
     "start_time": "2020-12-27T09:48:32.521458",
     "status": "completed"
    },
    "tags": []
   },
   "source": [
    "# Task 4 : Visualize each componennt"
   ]
  },
  {
   "cell_type": "code",
   "execution_count": 25,
   "metadata": {
    "papermill": {
     "duration": 0.826211,
     "end_time": "2020-12-27T09:48:33.431169",
     "exception": false,
     "start_time": "2020-12-27T09:48:32.604958",
     "status": "completed"
    },
    "tags": []
   },
   "outputs": [
    {
     "data": {
      "image/png": "[encoded data removed]",
      "text/plain": [
       "<Figure size 648x432 with 2 Axes>"
      ]
     },
     "execution_count": 25,
     "metadata": {},
     "output_type": "execute_result"
    },
    {
     "data": {
      "image/png": "[encoded data removed]",
      "text/plain": [
       "<Figure size 648x432 with 2 Axes>"
      ]
     },
     "metadata": {},
     "output_type": "display_data"
    }
   ],
   "source": [
    "model.plot_components(predictions)"
   ]
  },
  {
   "cell_type": "markdown",
   "metadata": {
    "papermill": {
     "duration": 0.043021,
     "end_time": "2020-12-27T09:48:33.518211",
     "exception": false,
     "start_time": "2020-12-27T09:48:33.475190",
     "status": "completed"
    },
    "tags": []
   },
   "source": [
    "# Task 5: Cross Validation\n",
    "\n",
    "we will do this by comparing the predicted values with actual values. \n",
    "\n",
    "Select Cut off Points in the history of data then fit model with data upto that cut off point.\n",
    "\n",
    "Then we compare the actual values to the predicted values. \n",
    "\n",
    "This Takes following parameter:\n",
    "    1. horizon --> the forcast horizon\n",
    "    2. initial size of initial training period\n",
    "    3. period the spacing between cutoff dates"
   ]
  },
  {
   "cell_type": "code",
   "execution_count": 26,
   "metadata": {
    "papermill": {
     "duration": 0.052629,
     "end_time": "2020-12-27T09:48:33.614286",
     "exception": false,
     "start_time": "2020-12-27T09:48:33.561657",
     "status": "completed"
    },
    "tags": []
   },
   "outputs": [],
   "source": [
    "from fbprophet.diagnostics import cross_validation"
   ]
  },
  {
   "cell_type": "code",
   "execution_count": 27,
   "metadata": {
    "papermill": {
     "duration": 108.552781,
     "end_time": "2020-12-27T09:50:22.212184",
     "exception": false,
     "start_time": "2020-12-27T09:48:33.659403",
     "status": "completed"
    },
    "tags": []
   },
   "outputs": [
    {
     "name": "stderr",
     "output_type": "stream",
     "text": [
      "INFO:fbprophet:Making 21 forecasts with cutoffs between 1965-01-22 00:00:00 and 1974-12-01 00:00:00\n"
     ]
    },
    {
     "data": {
      "application/vnd.jupyter.widget-view+json": {
       "model_id": "6ebfb822559a4f72a6e1da2c944e995e",
       "version_major": 2,
       "version_minor": 0
      },
      "text/plain": [
       "  0%|          | 0/21 [00:00<?, ?it/s]"
      ]
     },
     "metadata": {},
     "output_type": "display_data"
    }
   ],
   "source": [
    "df_cv = cross_validation(model, horizon = \"365 days\", period='180 days', initial = '1095 days')"
   ]
  },
  {
   "cell_type": "code",
   "execution_count": 28,
   "metadata": {
    "papermill": {
     "duration": 0.069291,
     "end_time": "2020-12-27T09:50:22.327231",
     "exception": false,
     "start_time": "2020-12-27T09:50:22.257940",
     "status": "completed"
    },
    "tags": []
   },
   "outputs": [
    {
     "data": {
      "text/html": [
       "<div>\n",
       "<style scoped>\n",
       "    .dataframe tbody tr th:only-of-type {\n",
       "        vertical-align: middle;\n",
       "    }\n",
       "\n",
       "    .dataframe tbody tr th {\n",
       "        vertical-align: top;\n",
       "    }\n",
       "\n",
       "    .dataframe thead th {\n",
       "        text-align: right;\n",
       "    }\n",
       "</style>\n",
       "<table border=\"1\" class=\"dataframe\">\n",
       "  <thead>\n",
       "    <tr style=\"text-align: right;\">\n",
       "      <th></th>\n",
       "      <th>ds</th>\n",
       "      <th>yhat</th>\n",
       "      <th>yhat_lower</th>\n",
       "      <th>yhat_upper</th>\n",
       "      <th>y</th>\n",
       "      <th>cutoff</th>\n",
       "    </tr>\n",
       "  </thead>\n",
       "  <tbody>\n",
       "    <tr>\n",
       "      <th>0</th>\n",
       "      <td>1965-02-01</td>\n",
       "      <td>619.087141</td>\n",
       "      <td>617.181376</td>\n",
       "      <td>620.893104</td>\n",
       "      <td>622.0</td>\n",
       "      <td>1965-01-22</td>\n",
       "    </tr>\n",
       "    <tr>\n",
       "      <th>1</th>\n",
       "      <td>1965-03-01</td>\n",
       "      <td>697.071986</td>\n",
       "      <td>690.766631</td>\n",
       "      <td>703.143640</td>\n",
       "      <td>709.0</td>\n",
       "      <td>1965-01-22</td>\n",
       "    </tr>\n",
       "    <tr>\n",
       "      <th>2</th>\n",
       "      <td>1965-04-01</td>\n",
       "      <td>709.290761</td>\n",
       "      <td>695.191876</td>\n",
       "      <td>722.816544</td>\n",
       "      <td>722.0</td>\n",
       "      <td>1965-01-22</td>\n",
       "    </tr>\n",
       "    <tr>\n",
       "      <th>3</th>\n",
       "      <td>1965-05-01</td>\n",
       "      <td>774.436723</td>\n",
       "      <td>753.864978</td>\n",
       "      <td>794.641759</td>\n",
       "      <td>782.0</td>\n",
       "      <td>1965-01-22</td>\n",
       "    </tr>\n",
       "    <tr>\n",
       "      <th>4</th>\n",
       "      <td>1965-06-01</td>\n",
       "      <td>742.879282</td>\n",
       "      <td>712.291523</td>\n",
       "      <td>771.475716</td>\n",
       "      <td>756.0</td>\n",
       "      <td>1965-01-22</td>\n",
       "    </tr>\n",
       "  </tbody>\n",
       "</table>\n",
       "</div>"
      ],
      "text/plain": [
       "          ds        yhat  yhat_lower  yhat_upper      y     cutoff\n",
       "0 1965-02-01  619.087141  617.181376  620.893104  622.0 1965-01-22\n",
       "1 1965-03-01  697.071986  690.766631  703.143640  709.0 1965-01-22\n",
       "2 1965-04-01  709.290761  695.191876  722.816544  722.0 1965-01-22\n",
       "3 1965-05-01  774.436723  753.864978  794.641759  782.0 1965-01-22\n",
       "4 1965-06-01  742.879282  712.291523  771.475716  756.0 1965-01-22"
      ]
     },
     "execution_count": 28,
     "metadata": {},
     "output_type": "execute_result"
    }
   ],
   "source": [
    "df_cv.head()"
   ]
  },
  {
   "cell_type": "code",
   "execution_count": 29,
   "metadata": {
    "papermill": {
     "duration": 0.067297,
     "end_time": "2020-12-27T09:50:22.440804",
     "exception": false,
     "start_time": "2020-12-27T09:50:22.373507",
     "status": "completed"
    },
    "tags": []
   },
   "outputs": [
    {
     "data": {
      "text/html": [
       "<div>\n",
       "<style scoped>\n",
       "    .dataframe tbody tr th:only-of-type {\n",
       "        vertical-align: middle;\n",
       "    }\n",
       "\n",
       "    .dataframe tbody tr th {\n",
       "        vertical-align: top;\n",
       "    }\n",
       "\n",
       "    .dataframe thead th {\n",
       "        text-align: right;\n",
       "    }\n",
       "</style>\n",
       "<table border=\"1\" class=\"dataframe\">\n",
       "  <thead>\n",
       "    <tr style=\"text-align: right;\">\n",
       "      <th></th>\n",
       "      <th>ds</th>\n",
       "      <th>yhat</th>\n",
       "      <th>yhat_lower</th>\n",
       "      <th>yhat_upper</th>\n",
       "      <th>y</th>\n",
       "      <th>cutoff</th>\n",
       "    </tr>\n",
       "  </thead>\n",
       "  <tbody>\n",
       "    <tr>\n",
       "      <th>247</th>\n",
       "      <td>1975-08-01</td>\n",
       "      <td>850.582813</td>\n",
       "      <td>840.886568</td>\n",
       "      <td>860.287246</td>\n",
       "      <td>858.0</td>\n",
       "      <td>1974-12-01</td>\n",
       "    </tr>\n",
       "    <tr>\n",
       "      <th>248</th>\n",
       "      <td>1975-09-01</td>\n",
       "      <td>808.189317</td>\n",
       "      <td>798.175709</td>\n",
       "      <td>818.120106</td>\n",
       "      <td>817.0</td>\n",
       "      <td>1974-12-01</td>\n",
       "    </tr>\n",
       "    <tr>\n",
       "      <th>249</th>\n",
       "      <td>1975-10-01</td>\n",
       "      <td>811.611644</td>\n",
       "      <td>800.659902</td>\n",
       "      <td>822.484269</td>\n",
       "      <td>827.0</td>\n",
       "      <td>1974-12-01</td>\n",
       "    </tr>\n",
       "    <tr>\n",
       "      <th>250</th>\n",
       "      <td>1975-11-01</td>\n",
       "      <td>779.609808</td>\n",
       "      <td>768.329745</td>\n",
       "      <td>790.839818</td>\n",
       "      <td>797.0</td>\n",
       "      <td>1974-12-01</td>\n",
       "    </tr>\n",
       "    <tr>\n",
       "      <th>251</th>\n",
       "      <td>1975-12-01</td>\n",
       "      <td>814.158114</td>\n",
       "      <td>803.622412</td>\n",
       "      <td>825.344672</td>\n",
       "      <td>843.0</td>\n",
       "      <td>1974-12-01</td>\n",
       "    </tr>\n",
       "  </tbody>\n",
       "</table>\n",
       "</div>"
      ],
      "text/plain": [
       "            ds        yhat  yhat_lower  yhat_upper      y     cutoff\n",
       "247 1975-08-01  850.582813  840.886568  860.287246  858.0 1974-12-01\n",
       "248 1975-09-01  808.189317  798.175709  818.120106  817.0 1974-12-01\n",
       "249 1975-10-01  811.611644  800.659902  822.484269  827.0 1974-12-01\n",
       "250 1975-11-01  779.609808  768.329745  790.839818  797.0 1974-12-01\n",
       "251 1975-12-01  814.158114  803.622412  825.344672  843.0 1974-12-01"
      ]
     },
     "execution_count": 29,
     "metadata": {},
     "output_type": "execute_result"
    }
   ],
   "source": [
    "df_cv.tail()"
   ]
  },
  {
   "cell_type": "code",
   "execution_count": 30,
   "metadata": {
    "papermill": {
     "duration": 0.39238,
     "end_time": "2020-12-27T09:50:22.880757",
     "exception": false,
     "start_time": "2020-12-27T09:50:22.488377",
     "status": "completed"
    },
    "tags": []
   },
   "outputs": [
    {
     "data": {
      "text/html": [
       "<div>\n",
       "<style scoped>\n",
       "    .dataframe tbody tr th:only-of-type {\n",
       "        vertical-align: middle;\n",
       "    }\n",
       "\n",
       "    .dataframe tbody tr th {\n",
       "        vertical-align: top;\n",
       "    }\n",
       "\n",
       "    .dataframe thead th {\n",
       "        text-align: right;\n",
       "    }\n",
       "</style>\n",
       "<table border=\"1\" class=\"dataframe\">\n",
       "  <thead>\n",
       "    <tr style=\"text-align: right;\">\n",
       "      <th></th>\n",
       "      <th>horizon</th>\n",
       "      <th>mse</th>\n",
       "      <th>rmse</th>\n",
       "      <th>mae</th>\n",
       "      <th>mape</th>\n",
       "      <th>mdape</th>\n",
       "      <th>coverage</th>\n",
       "    </tr>\n",
       "  </thead>\n",
       "  <tbody>\n",
       "    <tr>\n",
       "      <th>0</th>\n",
       "      <td>38 days</td>\n",
       "      <td>257.644337</td>\n",
       "      <td>16.051303</td>\n",
       "      <td>12.572310</td>\n",
       "      <td>0.016147</td>\n",
       "      <td>0.014236</td>\n",
       "      <td>0.32</td>\n",
       "    </tr>\n",
       "    <tr>\n",
       "      <th>1</th>\n",
       "      <td>41 days</td>\n",
       "      <td>255.691801</td>\n",
       "      <td>15.990366</td>\n",
       "      <td>12.493472</td>\n",
       "      <td>0.016083</td>\n",
       "      <td>0.014236</td>\n",
       "      <td>0.32</td>\n",
       "    </tr>\n",
       "    <tr>\n",
       "      <th>2</th>\n",
       "      <td>42 days</td>\n",
       "      <td>271.279611</td>\n",
       "      <td>16.470568</td>\n",
       "      <td>12.972159</td>\n",
       "      <td>0.016746</td>\n",
       "      <td>0.014528</td>\n",
       "      <td>0.32</td>\n",
       "    </tr>\n",
       "    <tr>\n",
       "      <th>3</th>\n",
       "      <td>43 days</td>\n",
       "      <td>273.143144</td>\n",
       "      <td>16.527043</td>\n",
       "      <td>13.204699</td>\n",
       "      <td>0.017115</td>\n",
       "      <td>0.014528</td>\n",
       "      <td>0.32</td>\n",
       "    </tr>\n",
       "    <tr>\n",
       "      <th>4</th>\n",
       "      <td>46 days</td>\n",
       "      <td>259.725549</td>\n",
       "      <td>16.116003</td>\n",
       "      <td>12.958665</td>\n",
       "      <td>0.016791</td>\n",
       "      <td>0.014528</td>\n",
       "      <td>0.32</td>\n",
       "    </tr>\n",
       "  </tbody>\n",
       "</table>\n",
       "</div>"
      ],
      "text/plain": [
       "  horizon         mse       rmse        mae      mape     mdape  coverage\n",
       "0 38 days  257.644337  16.051303  12.572310  0.016147  0.014236      0.32\n",
       "1 41 days  255.691801  15.990366  12.493472  0.016083  0.014236      0.32\n",
       "2 42 days  271.279611  16.470568  12.972159  0.016746  0.014528      0.32\n",
       "3 43 days  273.143144  16.527043  13.204699  0.017115  0.014528      0.32\n",
       "4 46 days  259.725549  16.116003  12.958665  0.016791  0.014528      0.32"
      ]
     },
     "execution_count": 30,
     "metadata": {},
     "output_type": "execute_result"
    }
   ],
   "source": [
    "#performance matrix\n",
    "from fbprophet.diagnostics import performance_metrics\n",
    "df_performance = performance_metrics(df_cv)\n",
    "df_performance.head()"
   ]
  },
  {
   "cell_type": "code",
   "execution_count": 31,
   "metadata": {
    "papermill": {
     "duration": 0.07278,
     "end_time": "2020-12-27T09:50:23.001047",
     "exception": false,
     "start_time": "2020-12-27T09:50:22.928267",
     "status": "completed"
    },
    "tags": []
   },
   "outputs": [
    {
     "data": {
      "text/html": [
       "<div>\n",
       "<style scoped>\n",
       "    .dataframe tbody tr th:only-of-type {\n",
       "        vertical-align: middle;\n",
       "    }\n",
       "\n",
       "    .dataframe tbody tr th {\n",
       "        vertical-align: top;\n",
       "    }\n",
       "\n",
       "    .dataframe thead th {\n",
       "        text-align: right;\n",
       "    }\n",
       "</style>\n",
       "<table border=\"1\" class=\"dataframe\">\n",
       "  <thead>\n",
       "    <tr style=\"text-align: right;\">\n",
       "      <th></th>\n",
       "      <th>horizon</th>\n",
       "      <th>mse</th>\n",
       "      <th>rmse</th>\n",
       "      <th>mae</th>\n",
       "      <th>mape</th>\n",
       "      <th>mdape</th>\n",
       "      <th>coverage</th>\n",
       "    </tr>\n",
       "  </thead>\n",
       "  <tbody>\n",
       "    <tr>\n",
       "      <th>0</th>\n",
       "      <td>38 days</td>\n",
       "      <td>257.644337</td>\n",
       "      <td>16.051303</td>\n",
       "      <td>12.572310</td>\n",
       "      <td>0.016147</td>\n",
       "      <td>0.014236</td>\n",
       "      <td>0.32</td>\n",
       "    </tr>\n",
       "    <tr>\n",
       "      <th>1</th>\n",
       "      <td>41 days</td>\n",
       "      <td>255.691801</td>\n",
       "      <td>15.990366</td>\n",
       "      <td>12.493472</td>\n",
       "      <td>0.016083</td>\n",
       "      <td>0.014236</td>\n",
       "      <td>0.32</td>\n",
       "    </tr>\n",
       "    <tr>\n",
       "      <th>2</th>\n",
       "      <td>42 days</td>\n",
       "      <td>271.279611</td>\n",
       "      <td>16.470568</td>\n",
       "      <td>12.972159</td>\n",
       "      <td>0.016746</td>\n",
       "      <td>0.014528</td>\n",
       "      <td>0.32</td>\n",
       "    </tr>\n",
       "    <tr>\n",
       "      <th>3</th>\n",
       "      <td>43 days</td>\n",
       "      <td>273.143144</td>\n",
       "      <td>16.527043</td>\n",
       "      <td>13.204699</td>\n",
       "      <td>0.017115</td>\n",
       "      <td>0.014528</td>\n",
       "      <td>0.32</td>\n",
       "    </tr>\n",
       "    <tr>\n",
       "      <th>4</th>\n",
       "      <td>46 days</td>\n",
       "      <td>259.725549</td>\n",
       "      <td>16.116003</td>\n",
       "      <td>12.958665</td>\n",
       "      <td>0.016791</td>\n",
       "      <td>0.014528</td>\n",
       "      <td>0.32</td>\n",
       "    </tr>\n",
       "    <tr>\n",
       "      <th>...</th>\n",
       "      <td>...</td>\n",
       "      <td>...</td>\n",
       "      <td>...</td>\n",
       "      <td>...</td>\n",
       "      <td>...</td>\n",
       "      <td>...</td>\n",
       "      <td>...</td>\n",
       "    </tr>\n",
       "    <tr>\n",
       "      <th>180</th>\n",
       "      <td>357 days</td>\n",
       "      <td>881.141224</td>\n",
       "      <td>29.684023</td>\n",
       "      <td>22.511721</td>\n",
       "      <td>0.028321</td>\n",
       "      <td>0.021820</td>\n",
       "      <td>0.36</td>\n",
       "    </tr>\n",
       "    <tr>\n",
       "      <th>181</th>\n",
       "      <td>360 days</td>\n",
       "      <td>687.891427</td>\n",
       "      <td>26.227684</td>\n",
       "      <td>19.452020</td>\n",
       "      <td>0.024156</td>\n",
       "      <td>0.017203</td>\n",
       "      <td>0.40</td>\n",
       "    </tr>\n",
       "    <tr>\n",
       "      <th>182</th>\n",
       "      <td>361 days</td>\n",
       "      <td>675.174515</td>\n",
       "      <td>25.984120</td>\n",
       "      <td>19.054909</td>\n",
       "      <td>0.023753</td>\n",
       "      <td>0.014183</td>\n",
       "      <td>0.40</td>\n",
       "    </tr>\n",
       "    <tr>\n",
       "      <th>183</th>\n",
       "      <td>362 days</td>\n",
       "      <td>658.322393</td>\n",
       "      <td>25.657794</td>\n",
       "      <td>18.347110</td>\n",
       "      <td>0.022942</td>\n",
       "      <td>0.013880</td>\n",
       "      <td>0.44</td>\n",
       "    </tr>\n",
       "    <tr>\n",
       "      <th>184</th>\n",
       "      <td>365 days</td>\n",
       "      <td>689.693127</td>\n",
       "      <td>26.262009</td>\n",
       "      <td>19.319182</td>\n",
       "      <td>0.024046</td>\n",
       "      <td>0.014183</td>\n",
       "      <td>0.44</td>\n",
       "    </tr>\n",
       "  </tbody>\n",
       "</table>\n",
       "<p>185 rows × 7 columns</p>\n",
       "</div>"
      ],
      "text/plain": [
       "     horizon         mse       rmse        mae      mape     mdape  coverage\n",
       "0    38 days  257.644337  16.051303  12.572310  0.016147  0.014236      0.32\n",
       "1    41 days  255.691801  15.990366  12.493472  0.016083  0.014236      0.32\n",
       "2    42 days  271.279611  16.470568  12.972159  0.016746  0.014528      0.32\n",
       "3    43 days  273.143144  16.527043  13.204699  0.017115  0.014528      0.32\n",
       "4    46 days  259.725549  16.116003  12.958665  0.016791  0.014528      0.32\n",
       "..       ...         ...        ...        ...       ...       ...       ...\n",
       "180 357 days  881.141224  29.684023  22.511721  0.028321  0.021820      0.36\n",
       "181 360 days  687.891427  26.227684  19.452020  0.024156  0.017203      0.40\n",
       "182 361 days  675.174515  25.984120  19.054909  0.023753  0.014183      0.40\n",
       "183 362 days  658.322393  25.657794  18.347110  0.022942  0.013880      0.44\n",
       "184 365 days  689.693127  26.262009  19.319182  0.024046  0.014183      0.44\n",
       "\n",
       "[185 rows x 7 columns]"
      ]
     },
     "execution_count": 31,
     "metadata": {},
     "output_type": "execute_result"
    }
   ],
   "source": [
    "df_performance"
   ]
  },
  {
   "cell_type": "code",
   "execution_count": 32,
   "metadata": {
    "papermill": {
     "duration": 0.269053,
     "end_time": "2020-12-27T09:50:23.317253",
     "exception": false,
     "start_time": "2020-12-27T09:50:23.048200",
     "status": "completed"
    },
    "tags": []
   },
   "outputs": [
    {
     "name": "stderr",
     "output_type": "stream",
     "text": [
      "C:\\Users\\Sandesh\\Anaconda3\\lib\\site-packages\\fbprophet\\plot.py:526: FutureWarning: casting timedelta64[ns] values to int64 with .astype(...) is deprecated and will raise in a future version. Use .view(...) instead.\n",
      "  x_plt = df_none['horizon'].astype('timedelta64[ns]').astype(np.int64) / float(dt_conversions[i])\n",
      "C:\\Users\\Sandesh\\Anaconda3\\lib\\site-packages\\fbprophet\\plot.py:527: FutureWarning: casting timedelta64[ns] values to int64 with .astype(...) is deprecated and will raise in a future version. Use .view(...) instead.\n",
      "  x_plt_h = df_h['horizon'].astype('timedelta64[ns]').astype(np.int64) / float(dt_conversions[i])\n"
     ]
    },
    {
     "data": {
      "image/png": "[encoded data removed]",
      "text/plain": [
       "<Figure size 720x432 with 1 Axes>"
      ]
     },
     "metadata": {},
     "output_type": "display_data"
    }
   ],
   "source": [
    "from fbprophet.plot import plot_cross_validation_metric\n",
    "fig = plot_cross_validation_metric(df_cv, metric='rmse')"
   ]
  }
 ],
 "metadata": {
  "kernelspec": {
   "display_name": "Python 3 (ipykernel)",
   "language": "python",
   "name": "python3"
  },
  "language_info": {
   "codemirror_mode": {
    "name": "ipython",
    "version": 3
   },
   "file_extension": ".py",
   "mimetype": "text/x-python",
   "name": "python",
   "nbconvert_exporter": "python",
   "pygments_lexer": "ipython3",
   "version": "3.9.7"
  },
  "papermill": {
   "duration": 124.370874,
   "end_time": "2020-12-27T09:50:23.572379",
   "environment_variables": {},
   "exception": null,
   "input_path": "__notebook__.ipynb",
   "output_path": "__notebook__.ipynb",
   "parameters": {},
   "start_time": "2020-12-27T09:48:19.201505",
   "version": "2.1.0"
  },
  "widgets": {
   "application/vnd.jupyter.widget-state+json": {
    "state": {
     "03f5af4daf8b4b5cb70ec2d583df98df": {
      "model_module": "@jupyter-widgets/base",
      "model_module_version": "1.2.0",
      "model_name": "LayoutModel",
      "state": {
       "_model_module": "@jupyter-widgets/base",
       "_model_module_version": "1.2.0",
       "_model_name": "LayoutModel",
       "_view_count": null,
       "_view_module": "@jupyter-widgets/base",
       "_view_module_version": "1.2.0",
       "_view_name": "LayoutView",
       "align_content": null,
       "align_items": null,
       "align_self": null,
       "border": null,
       "bottom": null,
       "display": null,
       "flex": null,
       "flex_flow": null,
       "grid_area": null,
       "grid_auto_columns": null,
       "grid_auto_flow": null,
       "grid_auto_rows": null,
       "grid_column": null,
       "grid_gap": null,
       "grid_row": null,
       "grid_template_areas": null,
       "grid_template_columns": null,
       "grid_template_rows": null,
       "height": null,
       "justify_content": null,
       "justify_items": null,
       "left": null,
       "margin": null,
       "max_height": null,
       "max_width": null,
       "min_height": null,
       "min_width": null,
       "object_fit": null,
       "object_position": null,
       "order": null,
       "overflow": null,
       "overflow_x": null,
       "overflow_y": null,
       "padding": null,
       "right": null,
       "top": null,
       "visibility": null,
       "width": null
      }
     },
     "0cd5dc47c13143b29fc166923bdc0b42": {
      "model_module": "@jupyter-widgets/base",
      "model_module_version": "1.2.0",
      "model_name": "LayoutModel",
      "state": {
       "_model_module": "@jupyter-widgets/base",
       "_model_module_version": "1.2.0",
       "_model_name": "LayoutModel",
       "_view_count": null,
       "_view_module": "@jupyter-widgets/base",
       "_view_module_version": "1.2.0",
       "_view_name": "LayoutView",
       "align_content": null,
       "align_items": null,
       "align_self": null,
       "border": null,
       "bottom": null,
       "display": null,
       "flex": null,
       "flex_flow": null,
       "grid_area": null,
       "grid_auto_columns": null,
       "grid_auto_flow": null,
       "grid_auto_rows": null,
       "grid_column": null,
       "grid_gap": null,
       "grid_row": null,
       "grid_template_areas": null,
       "grid_template_columns": null,
       "grid_template_rows": null,
       "height": null,
       "justify_content": null,
       "justify_items": null,
       "left": null,
       "margin": null,
       "max_height": null,
       "max_width": null,
       "min_height": null,
       "min_width": null,
       "object_fit": null,
       "object_position": null,
       "order": null,
       "overflow": null,
       "overflow_x": null,
       "overflow_y": null,
       "padding": null,
       "right": null,
       "top": null,
       "visibility": null,
       "width": null
      }
     },
     "0feb8d6a0cce4013a10c001af579ca9e": {
      "model_module": "@jupyter-widgets/controls",
      "model_module_version": "1.5.0",
      "model_name": "DescriptionStyleModel",
      "state": {
       "_model_module": "@jupyter-widgets/controls",
       "_model_module_version": "1.5.0",
       "_model_name": "DescriptionStyleModel",
       "_view_count": null,
       "_view_module": "@jupyter-widgets/base",
       "_view_module_version": "1.2.0",
       "_view_name": "StyleView",
       "description_width": ""
      }
     },
     "2d6ae6e1e812454d99e7c475ec2791e4": {
      "model_module": "@jupyter-widgets/controls",
      "model_module_version": "1.5.0",
      "model_name": "ProgressStyleModel",
      "state": {
       "_model_module": "@jupyter-widgets/controls",
       "_model_module_version": "1.5.0",
       "_model_name": "ProgressStyleModel",
       "_view_count": null,
       "_view_module": "@jupyter-widgets/base",
       "_view_module_version": "1.2.0",
       "_view_name": "StyleView",
       "bar_color": null,
       "description_width": "initial"
      }
     },
     "743de47996b34e62aee18145946501a1": {
      "model_module": "@jupyter-widgets/base",
      "model_module_version": "1.2.0",
      "model_name": "LayoutModel",
      "state": {
       "_model_module": "@jupyter-widgets/base",
       "_model_module_version": "1.2.0",
       "_model_name": "LayoutModel",
       "_view_count": null,
       "_view_module": "@jupyter-widgets/base",
       "_view_module_version": "1.2.0",
       "_view_name": "LayoutView",
       "align_content": null,
       "align_items": null,
       "align_self": null,
       "border": null,
       "bottom": null,
       "display": null,
       "flex": null,
       "flex_flow": null,
       "grid_area": null,
       "grid_auto_columns": null,
       "grid_auto_flow": null,
       "grid_auto_rows": null,
       "grid_column": null,
       "grid_gap": null,
       "grid_row": null,
       "grid_template_areas": null,
       "grid_template_columns": null,
       "grid_template_rows": null,
       "height": null,
       "justify_content": null,
       "justify_items": null,
       "left": null,
       "margin": null,
       "max_height": null,
       "max_width": null,
       "min_height": null,
       "min_width": null,
       "object_fit": null,
       "object_position": null,
       "order": null,
       "overflow": null,
       "overflow_x": null,
       "overflow_y": null,
       "padding": null,
       "right": null,
       "top": null,
       "visibility": null,
       "width": null
      }
     },
     "82982b9aed814eb6a7db6acc94fd5fc1": {
      "model_module": "@jupyter-widgets/controls",
      "model_module_version": "1.5.0",
      "model_name": "HBoxModel",
      "state": {
       "_dom_classes": [],
       "_model_module": "@jupyter-widgets/controls",
       "_model_module_version": "1.5.0",
       "_model_name": "HBoxModel",
       "_view_count": null,
       "_view_module": "@jupyter-widgets/controls",
       "_view_module_version": "1.5.0",
       "_view_name": "HBoxView",
       "box_style": "",
       "children": [
        "IPY_MODEL_a0113415be9a49919b6c3ee08577e7c0",
        "IPY_MODEL_eb2d502a91ee4c5d8a1803dc272ab323"
       ],
       "layout": "IPY_MODEL_743de47996b34e62aee18145946501a1"
      }
     },
     "a0113415be9a49919b6c3ee08577e7c0": {
      "model_module": "@jupyter-widgets/controls",
      "model_module_version": "1.5.0",
      "model_name": "FloatProgressModel",
      "state": {
       "_dom_classes": [],
       "_model_module": "@jupyter-widgets/controls",
       "_model_module_version": "1.5.0",
       "_model_name": "FloatProgressModel",
       "_view_count": null,
       "_view_module": "@jupyter-widgets/controls",
       "_view_module_version": "1.5.0",
       "_view_name": "ProgressView",
       "bar_style": "success",
       "description": "100%",
       "description_tooltip": null,
       "layout": "IPY_MODEL_03f5af4daf8b4b5cb70ec2d583df98df",
       "max": 21,
       "min": 0,
       "orientation": "horizontal",
       "style": "IPY_MODEL_2d6ae6e1e812454d99e7c475ec2791e4",
       "value": 21
      }
     },
     "eb2d502a91ee4c5d8a1803dc272ab323": {
      "model_module": "@jupyter-widgets/controls",
      "model_module_version": "1.5.0",
      "model_name": "HTMLModel",
      "state": {
       "_dom_classes": [],
       "_model_module": "@jupyter-widgets/controls",
       "_model_module_version": "1.5.0",
       "_model_name": "HTMLModel",
       "_view_count": null,
       "_view_module": "@jupyter-widgets/controls",
       "_view_module_version": "1.5.0",
       "_view_name": "HTMLView",
       "description": "",
       "description_tooltip": null,
       "layout": "IPY_MODEL_0cd5dc47c13143b29fc166923bdc0b42",
       "placeholder": "​",
       "style": "IPY_MODEL_0feb8d6a0cce4013a10c001af579ca9e",
       "value": " 21/21 [01:48&lt;00:00,  5.16s/it]"
      }
     }
    },
    "version_major": 2,
    "version_minor": 0
   }
  }
 },
 "nbformat": 4,
 "nbformat_minor": 4
}
